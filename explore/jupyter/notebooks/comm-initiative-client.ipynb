{
 "cells": [
  {
   "cell_type": "code",
   "execution_count": 1,
   "metadata": {
    "collapsed": true
   },
   "outputs": [],
   "source": [
    "from ipykernel.comm.manager import CommManager"
   ]
  },
  {
   "cell_type": "code",
   "execution_count": 2,
   "metadata": {
    "collapsed": false
   },
   "outputs": [],
   "source": [
    "from ipykernel.kernelbase import Kernel"
   ]
  },
  {
   "cell_type": "code",
   "execution_count": 3,
   "metadata": {
    "collapsed": false
   },
   "outputs": [],
   "source": [
    "kernel = Kernel.instance()"
   ]
  },
  {
   "cell_type": "code",
   "execution_count": 4,
   "metadata": {
    "collapsed": false
   },
   "outputs": [],
   "source": [
    "output = open(\"output.txt\", \"w\")\n",
    "gcomm = None\n",
    "def comm_on_msg(msg):\n",
    "    print(\"==COMM MSG==:\", msg, file=output, flush=True)\n",
    "def comm_on_close(msg):\n",
    "    print(\"==COMM CLOSE==:\", msg, file=output, flush=True)\n",
    "def comm_target(comm, msg):\n",
    "    global gcomm\n",
    "    gcomm = comm\n",
    "    print(\"==COMM OPEN==:\", comm, msg, file=output, flush=True)\n",
    "    comm.on_msg(comm_on_msg)\n",
    "    comm.on_close(comm_on_close)\n",
    "kernel.comm_manager.register_target(\"example\", comm_target)"
   ]
  },
  {
   "cell_type": "code",
   "execution_count": 5,
   "metadata": {
    "collapsed": false
   },
   "outputs": [
    {
     "data": {
      "application/javascript": [
       "var comm=IPython.notebook.kernel.comm_manager.new_comm(\"example\", {\"msg\":\"I'm data\"}, {\"msg\": \"callbacks\"}, {\"msg\":\"I'm metadata\"})\n",
       "comm.send({\"msg\":\"I'm data\"}, {\"msg\": \"callbacks\"}, {\"msg\":\"I'm metadata\"}, [])\n",
       "comm.close({\"msg\":\"I'm data\"}, {\"msg\": \"callbacks\"}, {\"msg\":\"I'm metadata\"})\n",
       "\"OK\""
      ],
      "text/plain": [
       "<IPython.core.display.Javascript object>"
      ]
     },
     "metadata": {},
     "output_type": "display_data"
    }
   ],
   "source": [
    "%%javascript\n",
    "var comm=IPython.notebook.kernel.comm_manager.new_comm(\"example\", {\"msg\":\"I'm data\"}, {\"msg\": \"callbacks\"}, {\"msg\":\"I'm metadata\"})\n",
    "comm.send({\"msg\":\"I'm data\"}, {\"msg\": \"callbacks\"}, {\"msg\":\"I'm metadata\"}, [])\n",
    "comm.close({\"msg\":\"I'm data\"}, {\"msg\": \"callbacks\"}, {\"msg\":\"I'm metadata\"})\n",
    "\"OK\""
   ]
  },
  {
   "cell_type": "code",
   "execution_count": null,
   "metadata": {
    "collapsed": true
   },
   "outputs": [],
   "source": []
  }
 ],
 "metadata": {
  "kernelspec": {
   "display_name": "Python 3",
   "language": "python",
   "name": "python3"
  },
  "language_info": {
   "codemirror_mode": {
    "name": "ipython",
    "version": 3
   },
   "file_extension": ".py",
   "mimetype": "text/x-python",
   "name": "python",
   "nbconvert_exporter": "python",
   "pygments_lexer": "ipython3",
   "version": "3.5.0"
  }
 },
 "nbformat": 4,
 "nbformat_minor": 0
}
